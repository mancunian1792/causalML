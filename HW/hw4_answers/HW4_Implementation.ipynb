{
 "cells": [
  {
   "cell_type": "code",
   "execution_count": 1,
   "metadata": {},
   "outputs": [],
   "source": [
    "import pyro\n",
    "import pyro.distributions as dist\n",
    "from pyro.infer import Importance, EmpiricalMarginal\n",
    "import matplotlib.pyplot as plt\n",
    "import torch\n",
    "import numpy as np\n",
    "import pandas as pd\n",
    "import random"
   ]
  },
  {
   "cell_type": "markdown",
   "metadata": {},
   "source": [
    "### 1. 4"
   ]
  },
  {
   "cell_type": "code",
   "execution_count": 2,
   "metadata": {},
   "outputs": [],
   "source": [
    "def model():\n",
    "    Nx = pyro.sample('Nx', dist.Bernoulli(torch.tensor(0.5)))\n",
    "    Ny = pyro.sample('Ny', dist.Bernoulli(torch.tensor(0.5)))\n",
    "    Nz = pyro.sample('Nz', dist.Bernoulli(torch.tensor(0.5)))\n",
    "    X = pyro.sample('X', dist.Delta(Nx))\n",
    "    Y = pyro.sample('Y', dist.Delta(Ny))\n",
    "    ZVal = (Nz * (min((X+Y), torch.tensor(1.0)))) + ((torch.tensor(1.0) - Nz) * min((X*Y), torch.tensor(1.0)))\n",
    "    Z = pyro.sample('Z', dist.Delta(ZVal))\n",
    "    return X, Y, Z"
   ]
  },
  {
   "cell_type": "markdown",
   "metadata": {},
   "source": [
    "### 1.5"
   ]
  },
  {
   "cell_type": "code",
   "execution_count": 3,
   "metadata": {},
   "outputs": [],
   "source": [
    "conditoned_model = pyro.condition(model, data = {\"X\": torch.tensor(1.), \"Z\": torch.tensor(1.)})"
   ]
  },
  {
   "cell_type": "code",
   "execution_count": 4,
   "metadata": {},
   "outputs": [],
   "source": [
    "posterior = Importance(conditoned_model, num_samples=1000).run()"
   ]
  },
  {
   "cell_type": "markdown",
   "metadata": {},
   "source": [
    "### Abduction Step (1.6.1)"
   ]
  },
  {
   "cell_type": "code",
   "execution_count": 7,
   "metadata": {},
   "outputs": [
    {
     "name": "stdout",
     "output_type": "stream",
     "text": [
      "Nx is 1.0\n",
      "Ny is 0.0\n",
      "Nz is 1.0\n"
     ]
    }
   ],
   "source": [
    "for _ in range(1):\n",
    "    trace = posterior()\n",
    "    print(f\"Nx is {trace.nodes['Nx']['value']}\")\n",
    "    print(f\"Ny is {trace.nodes['Ny']['value']}\")\n",
    "    print(f\"Nz is {trace.nodes['Nz']['value']}\")"
   ]
  },
  {
   "cell_type": "markdown",
   "metadata": {},
   "source": [
    "### Action Step (1.6.2)"
   ]
  },
  {
   "cell_type": "code",
   "execution_count": 8,
   "metadata": {},
   "outputs": [],
   "source": [
    "intervention_model = pyro.do(model, data = {\"X\": torch.tensor(0.)})"
   ]
  },
  {
   "cell_type": "markdown",
   "metadata": {},
   "source": [
    "### Prediction Step (1.6.3)"
   ]
  },
  {
   "cell_type": "code",
   "execution_count": 9,
   "metadata": {},
   "outputs": [],
   "source": [
    "prediction_model = pyro.condition(intervention_model, data={\"Nx\": torch.tensor(0.), \"Ny\": torch.tensor(1.), \"Nz\": torch.tensor(0.)})"
   ]
  },
  {
   "cell_type": "code",
   "execution_count": 10,
   "metadata": {},
   "outputs": [
    {
     "name": "stdout",
     "output_type": "stream",
     "text": [
      "Z is 0.0\n"
     ]
    }
   ],
   "source": [
    "trace_prediction = pyro.poutine.trace(prediction_model)\n",
    "for _ in range(1):\n",
    "    trace = trace_prediction.get_trace()\n",
    "    print(f\"Z is {trace.nodes['Z']['value']}\")"
   ]
  },
  {
   "cell_type": "markdown",
   "metadata": {},
   "source": [
    "### 1.6.d"
   ]
  },
  {
   "cell_type": "code",
   "execution_count": 11,
   "metadata": {},
   "outputs": [],
   "source": [
    "def counterfactual(posterior):\n",
    "    # Abduction Step\n",
    "    #Nx = torch.tensor(0.)\n",
    "    #Ny = torch.tensor(0.)\n",
    "    #Nz = torch.tensor(0.)\n",
    "    # Get abduction samples\n",
    "    for _ in range(1):\n",
    "        trace = posterior()\n",
    "        Nx = trace.nodes['Nx']['value']\n",
    "        Ny = trace.nodes['Ny']['value']\n",
    "        Nz = trace.nodes['Nz']['value']\n",
    "    \n",
    "    # Intervention Step\n",
    "    intervention_model = pyro.do(model, data = {\"X\": torch.tensor(0.)})\n",
    "    \n",
    "    # Condition Step\n",
    "    prediction_model = pyro.condition(intervention_model, data={\"Nx\": Nx, \"Ny\": Ny, \"Nz\": Nz})\n",
    "    trace_prediction = pyro.poutine.trace(prediction_model)\n",
    "    for _ in range(1):\n",
    "        trace = trace_prediction.get_trace()\n",
    "        z = trace.nodes['Z']['value']\n",
    "        return z"
   ]
  },
  {
   "cell_type": "code",
   "execution_count": 12,
   "metadata": {},
   "outputs": [],
   "source": [
    "conditoned_model = pyro.condition(model, data = {\"X\": torch.tensor(1.), \"Z\": torch.tensor(1.)})\n",
    "posterior = Importance(conditoned_model, num_samples=1000).run()\n",
    "counterfactual_samples = [counterfactual(posterior) for _ in range(1000)]"
   ]
  },
  {
   "cell_type": "code",
   "execution_count": 13,
   "metadata": {},
   "outputs": [],
   "source": [
    "PZ1_X1Z1 = sum(counterfactual_samples)/len(counterfactual_samples)"
   ]
  },
  {
   "cell_type": "code",
   "execution_count": 14,
   "metadata": {},
   "outputs": [],
   "source": [
    "pZ0_x1Z1 = 1 - PZ1_X1Z1"
   ]
  },
  {
   "cell_type": "code",
   "execution_count": 15,
   "metadata": {},
   "outputs": [
    {
     "data": {
      "text/plain": [
       "tensor(0.6710)"
      ]
     },
     "execution_count": 15,
     "metadata": {},
     "output_type": "execute_result"
    }
   ],
   "source": [
    "pZ0_x1Z1"
   ]
  },
  {
   "cell_type": "code",
   "execution_count": 16,
   "metadata": {},
   "outputs": [
    {
     "data": {
      "text/plain": [
       "tensor(0.3290)"
      ]
     },
     "execution_count": 16,
     "metadata": {},
     "output_type": "execute_result"
    }
   ],
   "source": [
    "PZ1_X1Z1"
   ]
  },
  {
   "cell_type": "markdown",
   "metadata": {},
   "source": [
    "### 2.1"
   ]
  },
  {
   "cell_type": "code",
   "execution_count": 17,
   "metadata": {},
   "outputs": [],
   "source": [
    "def scm():\n",
    "    Nx = pyro.sample('Nx', dist.Bernoulli(torch.tensor(0.5)))\n",
    "    Nq = pyro.sample('Nq', dist.Bernoulli(torch.tensor(0.9)))\n",
    "    Ny = pyro.sample('Ny', dist.Bernoulli(torch.tensor(0.2)))\n",
    "    X = pyro.sample('X', dist.Delta(Nx))\n",
    "    Q = pyro.sample('Q', dist.Delta(Nq))\n",
    "    YVal = (X and Q) or Ny\n",
    "    Y = pyro.sample('Y', dist.Delta(YVal))\n",
    "    return X, Q, Y"
   ]
  },
  {
   "cell_type": "code",
   "execution_count": 18,
   "metadata": {},
   "outputs": [],
   "source": [
    "def counterfactualscm(posterior, intervention_model):\n",
    "    \n",
    "    Nx = torch.tensor(0.)\n",
    "    Ny = torch.tensor(0.)\n",
    "    Nq = torch.tensor(0.)\n",
    "    for _ in range(1):\n",
    "        trace = posterior()\n",
    "        Nx = trace.nodes['Nx']['value']\n",
    "        Ny = trace.nodes['Ny']['value']\n",
    "        Nq = trace.nodes['Nq']['value']\n",
    "        \n",
    "    # Prediction Step\n",
    "    prediction_model = pyro.condition(intervention_model, data={\"Nx\": Nx, \"Ny\": Ny, \"Nq\": Nq})\n",
    "    trace_prediction = pyro.poutine.trace(prediction_model)\n",
    "    for _ in range(1):\n",
    "        trace = trace_prediction.get_trace()\n",
    "        y = trace.nodes['Y']['value']\n",
    "        return y"
   ]
  },
  {
   "cell_type": "code",
   "execution_count": 31,
   "metadata": {},
   "outputs": [],
   "source": [
    "condition_pn = pyro.condition(scm, data = {\"X\": torch.tensor(1.), \"Y\": torch.tensor(1.)})\n",
    "# Intervention Step\n",
    "intervention_model = pyro.do(scm, data = {\"X\": torch.tensor(0.)})\n",
    "posterior = Importance(condition_pn, num_samples=1000).run()\n",
    "pn = [counterfactualscm(posterior, intervention_model) for _ in range(1000)]"
   ]
  },
  {
   "cell_type": "code",
   "execution_count": 32,
   "metadata": {},
   "outputs": [],
   "source": [
    "pn = 1 - (sum(pn)/len(pn))"
   ]
  },
  {
   "cell_type": "code",
   "execution_count": 33,
   "metadata": {},
   "outputs": [
    {
     "data": {
      "text/plain": [
       "tensor(0.7920)"
      ]
     },
     "execution_count": 33,
     "metadata": {},
     "output_type": "execute_result"
    }
   ],
   "source": [
    "pn"
   ]
  },
  {
   "cell_type": "code",
   "execution_count": 43,
   "metadata": {},
   "outputs": [],
   "source": [
    "condition_ps = pyro.condition(scm, data = {\"X\": torch.tensor(0.), \"Y\": torch.tensor(0.)})\n",
    "# Intervention Step\n",
    "intervention_model_ps = pyro.do(scm, data = {\"X\": torch.tensor(1.)})\n",
    "posterior_ps = Importance(condition_ps, num_samples=1000).run()\n",
    "ps = [counterfactualscm(posterior_ps, intervention_model_ps) for _ in range(1000)]"
   ]
  },
  {
   "cell_type": "code",
   "execution_count": 44,
   "metadata": {},
   "outputs": [],
   "source": [
    "ps = sum(ps)/len(ps)"
   ]
  },
  {
   "cell_type": "code",
   "execution_count": 45,
   "metadata": {},
   "outputs": [
    {
     "data": {
      "text/plain": [
       "tensor(0.9000)"
      ]
     },
     "execution_count": 45,
     "metadata": {},
     "output_type": "execute_result"
    }
   ],
   "source": [
    "ps"
   ]
  },
  {
   "cell_type": "markdown",
   "metadata": {},
   "source": [
    "### 4"
   ]
  },
  {
   "cell_type": "code",
   "execution_count": 51,
   "metadata": {},
   "outputs": [],
   "source": [
    "df = pd.read_csv('./driver.csv', index_col=0)"
   ]
  },
  {
   "cell_type": "code",
   "execution_count": 52,
   "metadata": {},
   "outputs": [],
   "source": [
    "# Calculating do operation using valid adjustment set formula\n",
    "def estimate_y(x):\n",
    "    est_sum = 0\n",
    "    for z in df['z'].unique():\n",
    "        filter_df = df.query('x == @x & z == @z')\n",
    "        mean_y = np.mean(filter_df['y'])\n",
    "        \n",
    "        prob_z = df.query('z == @z').size/df.size\n",
    "        \n",
    "        est_sum += (mean_y*prob_z)\n",
    "    \n",
    "    return est_sum"
   ]
  },
  {
   "cell_type": "code",
   "execution_count": 53,
   "metadata": {},
   "outputs": [],
   "source": [
    "# E[Y_X=x | X=cx]\n",
    "def estimate_counterfactual(x, cx):\n",
    "    est_sum = 0\n",
    "    for z in df['z'].unique():\n",
    "        filter_df = df.query('x == @x & z == @z')\n",
    "        mean_y = np.mean(filter_df['y'])\n",
    "        \n",
    "        filter_df = df.query('x == @cx')\n",
    "        prob_z = filter_df.query('z == @z').size/filter_df.size\n",
    "        \n",
    "        est_sum += (mean_y*prob_z)\n",
    "    \n",
    "    return est_sum"
   ]
  },
  {
   "cell_type": "code",
   "execution_count": 54,
   "metadata": {},
   "outputs": [
    {
     "name": "stdout",
     "output_type": "stream",
     "text": [
      "E(Y_X=0 | X=1) = 3.091\n",
      "ETT = 1.346\n",
      "E(Y_X=1 - Y_X=0) = 3.075 - 1.861 = 1.214\n"
     ]
    }
   ],
   "source": [
    "print('E(Y_X=0 | X=1) = %.3f' % (estimate_counterfactual(0, 1)))\n",
    "print('ETT = %.3f' % (estimate_counterfactual(1, 1) - estimate_counterfactual(0, 1)))\n",
    "print('E(Y_X=1 - Y_X=0) = %.3f - %.3f = %.3f' % (estimate_y(1), estimate_y(0), estimate_y(1) - estimate_y(0)))"
   ]
  },
  {
   "cell_type": "markdown",
   "metadata": {},
   "source": [
    "### Analysis\n",
    "It is clear from the results that the ETT is slight higher than the total effect. This indicates that the training program must have had an impact on the motivation of the drivers results in higher revenues. Having done the ETT analysis, we can safely say that the training program in general is going to result in higher revenues despite the original motivation of the drivers. "
   ]
  },
  {
   "cell_type": "code",
   "execution_count": null,
   "metadata": {},
   "outputs": [],
   "source": []
  }
 ],
 "metadata": {
  "kernelspec": {
   "display_name": "Python 3",
   "language": "python",
   "name": "python3"
  },
  "language_info": {
   "codemirror_mode": {
    "name": "ipython",
    "version": 3
   },
   "file_extension": ".py",
   "mimetype": "text/x-python",
   "name": "python",
   "nbconvert_exporter": "python",
   "pygments_lexer": "ipython3",
   "version": "3.6.10"
  }
 },
 "nbformat": 4,
 "nbformat_minor": 2
}
