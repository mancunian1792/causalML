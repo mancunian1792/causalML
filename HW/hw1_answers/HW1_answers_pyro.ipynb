{
 "cells": [
  {
   "cell_type": "code",
   "execution_count": 24,
   "metadata": {},
   "outputs": [],
   "source": [
    "import pyro\n",
    "import pyro.distributions as dist\n",
    "from pyro.infer import Importance, EmpiricalMarginal\n",
    "import matplotlib.pyplot as plt\n",
    "import torch\n",
    "import numpy as np"
   ]
  },
  {
   "cell_type": "code",
   "execution_count": 20,
   "metadata": {},
   "outputs": [],
   "source": [
    "# Getting the cpt tables from bnlearn fit values\n",
    "A_alias = ['adult','old','young']\n",
    "S_alias = ['F','M']\n",
    "E_alias = ['high','uni']\n",
    "O_alias = ['emp','self']\n",
    "R_alias = ['big','small']\n",
    "T_alias = ['car','other','train']\n",
    "\n",
    "A_prob = torch.tensor([0.36,0.16,0.48])\n",
    "S_prob = torch.tensor([0.55, 0.45])\n",
    "\n",
    "E_prob = torch.tensor([[[0.64, 0.36], [0.84, 0.16], [0.16, 0.84]],\n",
    "                     [[0.72, 0.28], [0.89, 0.11], [0.81, 0.19]]])\n",
    "O_prob = torch.tensor([[0.98, 0.02], [0.97, 0.03]])\n",
    "R_prob = torch.tensor([[0.72, 0.28], [0.94, 0.06]])\n",
    "T_prob = torch.tensor([[[0.71, 0.14, 0.15], [0.68, 0.16, 0.16]],\n",
    "                     [[0.55, 0.08, 0.37], [0.73, 0.25, 0.02]]])"
   ]
  },
  {
   "cell_type": "markdown",
   "metadata": {},
   "source": [
    "## 6 Switching to Pyro (18 points)\n",
    "\n",
    "If you are new to tensor-based frameworks, make sure you give yourself plenty of time for this question.  It takes time to get used to debugging.  One common source of bugs is integers, *pyro* prefers you use floats (e.g., `torch.tensor(1.0)` instead of `torch.tensor(1)`).  If you hit a bug and solve it, why not share with your classmates on Piazza?\n",
    "\n",
    "(a) Use *pyro* to reimplement the Bayesian network with parameter values you fitted in question 3.  Use default *iss* values and round parameter estimates to 2 decimal places.  Show source code."
   ]
  },
  {
   "cell_type": "code",
   "execution_count": 16,
   "metadata": {},
   "outputs": [],
   "source": [
    "def model():\n",
    "    A = pyro.sample(\"A\", dist.Categorical(probs=A_prob))\n",
    "    S = pyro.sample(\"S\", dist.Categorical(probs=S_prob))\n",
    "    E = pyro.sample(\"E\", dist.Categorical(probs=E_prob[S][A]))\n",
    "    O = pyro.sample(\"O\", dist.Categorical(probs=O_prob[E]))\n",
    "    R = pyro.sample(\"R\", dist.Categorical(probs=R_prob[E]))\n",
    "    T = pyro.sample(\"T\", dist.Categorical(probs=T_prob[R][O]))\n",
    "    return{'A': A,'S': S,'E': E,'O': O,'R': R,'T': T}"
   ]
  },
  {
   "cell_type": "code",
   "execution_count": 17,
   "metadata": {},
   "outputs": [
    {
     "name": "stdout",
     "output_type": "stream",
     "text": [
      "{'A': tensor(0), 'S': tensor(1), 'E': tensor(1), 'O': tensor(0), 'R': tensor(1), 'T': tensor(2)}\n"
     ]
    }
   ],
   "source": [
    "print(model())"
   ]
  },
  {
   "cell_type": "markdown",
   "metadata": {},
   "source": [
    "Answer the following inference questions using `pyro.condition` and (if needed) a *pyro* inference algorithm. \n",
    "\n",
    "(b) You observe a person with a university degree. What is your prediction of this person's means of travel?Provide either a MAP estimate or a histogram of the marginal on the variable \"T\". "
   ]
  },
  {
   "cell_type": "code",
   "execution_count": 31,
   "metadata": {},
   "outputs": [],
   "source": [
    "conditioned_model_uni_degree = pyro.condition(model, data={'E':torch.tensor(1)})"
   ]
  },
  {
   "cell_type": "code",
   "execution_count": 64,
   "metadata": {
    "scrolled": true
   },
   "outputs": [
    {
     "data": {
      "text/plain": [
       "Text(0.5, 1.0, 'P(T | E = Uni) - Importance Sampling')"
      ]
     },
     "execution_count": 64,
     "metadata": {},
     "output_type": "execute_result"
    },
    {
     "data": {
      "image/png": "[encoded data removed]",
      "text/plain": [
       "<Figure size 432x288 with 1 Axes>"
      ]
     },
     "metadata": {},
     "output_type": "display_data"
    }
   ],
   "source": [
    "T_posterior = Importance(conditioned_model_uni_degree, num_samples=5000).run()\n",
    "T_marginal = EmpiricalMarginal(T_posterior,\"T\")\n",
    "T_samples = [T_marginal().item() for _ in range(5000)]\n",
    "T_unique, T_counts = np.unique(T_samples, return_counts=True)\n",
    "\n",
    "plt.bar(T_unique, T_counts, align='center', alpha=0.5)\n",
    "plt.xticks(T_unique, T_alias)\n",
    "plt.ylabel('Posterior Probability')\n",
    "plt.xlabel('T')\n",
    "plt.title('P(T | E = Uni) - Importance Sampling')"
   ]
  },
  {
   "cell_type": "markdown",
   "metadata": {},
   "source": [
    "(c) You observe a self-employed person who lives in a big city. What is your prediction of this person's age?  Provide either a MAP estimate or a histogram of the marginal on the variable \"A\".  "
   ]
  },
  {
   "cell_type": "code",
   "execution_count": 42,
   "metadata": {},
   "outputs": [],
   "source": [
    "conditioned_model_emp_big = pyro.condition(model, data={'O': torch.tensor(1), 'R': torch.tensor(0)})"
   ]
  },
  {
   "cell_type": "code",
   "execution_count": 65,
   "metadata": {
    "scrolled": true
   },
   "outputs": [
    {
     "data": {
      "text/plain": [
       "Text(0.5, 1.0, 'P(A | O=Self, R= Big) - Importance Sampling')"
      ]
     },
     "execution_count": 65,
     "metadata": {},
     "output_type": "execute_result"
    },
    {
     "data": {
      "image/png": "[encoded data removed]",
      "text/plain": [
       "<Figure size 432x288 with 1 Axes>"
      ]
     },
     "metadata": {},
     "output_type": "display_data"
    }
   ],
   "source": [
    "A_posterior = Importance(conditioned_model_emp_big, num_samples=5000).run()\n",
    "A_marginal = EmpiricalMarginal(A_posterior,\"A\")\n",
    "A_samples = [A_marginal().item() for _ in range(5000)]\n",
    "A_unique, A_counts = np.unique(A_samples, return_counts=True)\n",
    "\n",
    "plt.bar(A_unique, A_counts, align='center', alpha=0.5)\n",
    "plt.xticks(A_unique, A_alias)\n",
    "plt.ylabel('Posterior Probability')\n",
    "plt.xlabel('A')\n",
    "plt.title('P(A | O=Self, R= Big) - Importance Sampling')"
   ]
  },
  {
   "cell_type": "code",
   "execution_count": null,
   "metadata": {},
   "outputs": [],
   "source": []
  }
 ],
 "metadata": {
  "kernelspec": {
   "display_name": "Python 3",
   "language": "python",
   "name": "python3"
  },
  "language_info": {
   "codemirror_mode": {
    "name": "ipython",
    "version": 3
   },
   "file_extension": ".py",
   "mimetype": "text/x-python",
   "name": "python",
   "nbconvert_exporter": "python",
   "pygments_lexer": "ipython3",
   "version": "3.6.10"
  }
 },
 "nbformat": 4,
 "nbformat_minor": 2
}
