{
 "cells": [
  {
   "cell_type": "code",
   "execution_count": 1,
   "metadata": {},
   "outputs": [],
   "source": [
    "import pyro\n",
    "import pyro.distributions as dist\n",
    "from pyro.infer import Importance, EmpiricalMarginal\n",
    "import matplotlib.pyplot as plt\n",
    "import torch\n",
    "import numpy as np"
   ]
  },
  {
   "cell_type": "code",
   "execution_count": 7,
   "metadata": {},
   "outputs": [],
   "source": [
    "# Giving the alias and cpt tables for the model\n",
    "A_alias = [\"off\", \"on\"]\n",
    "B_alias = [\"off\", \"on\"]\n",
    "C_alias = [\"off\", \"on\"]\n",
    "\n",
    "\n",
    "A_prob = torch.tensor([0.5,0.5])\n",
    "B_prob = torch.tensor([[0.8, 0.2], [0.1, 0.9]])\n",
    "C_prob = torch.tensor([[[0.9,0.1], [0.99, 0.01]],\n",
    "                     [[0.1,0.9], [0.4, 0.6]]])"
   ]
  },
  {
   "cell_type": "markdown",
   "metadata": {},
   "source": [
    "### 4.h (6 points)\n",
    "\n",
    "Implement this model in `pyro`.  Then calculate $P(A = on\\ | \\  B = on, C = on)$ and $P(A = on\\ | \\  \\text{do}(B = on), C = on)$ use the `condition` and `do` operators and an inference algorthm."
   ]
  },
  {
   "cell_type": "code",
   "execution_count": 14,
   "metadata": {},
   "outputs": [],
   "source": [
    "def model():\n",
    "    A = pyro.sample(\"A\", dist.Categorical(probs=A_prob))\n",
    "    B = pyro.sample(\"B\", dist.Categorical(probs=B_prob[A]))\n",
    "    C = pyro.sample(\"C\", dist.Categorical(probs=C_prob[B][A]))\n",
    "    return{'A': A, 'B': B, 'C': C}"
   ]
  },
  {
   "cell_type": "markdown",
   "metadata": {},
   "source": [
    "### $P(A = on\\ | \\  B = on, C = on)$"
   ]
  },
  {
   "cell_type": "code",
   "execution_count": 16,
   "metadata": {},
   "outputs": [],
   "source": [
    "conditioned_model = pyro.condition(model, data={'B':torch.tensor(1),'C':torch.tensor(1)})"
   ]
  },
  {
   "cell_type": "code",
   "execution_count": 22,
   "metadata": {},
   "outputs": [
    {
     "data": {
      "text/plain": [
       "Text(0.5, 1.0, 'P(A | B = on, C = on) - Importance Sampling')"
      ]
     },
     "execution_count": 22,
     "metadata": {},
     "output_type": "execute_result"
    },
    {
     "data": {
      "image/png": "[encoded data removed]",
      "text/plain": [
       "<Figure size 432x288 with 1 Axes>"
      ]
     },
     "metadata": {},
     "output_type": "display_data"
    }
   ],
   "source": [
    "A_posterior = pyro.infer.Importance(conditioned_model, num_samples=10000).run()\n",
    "A_marginal = EmpiricalMarginal(A_posterior,\"A\")\n",
    "A_samples = [A_marginal().item() for _ in range(10000)]\n",
    "A_unique, A_counts = np.unique(A_samples, return_counts=True)\n",
    "\n",
    "plt.bar(A_unique, A_counts/len(A_samples), align='center', alpha=0.5)\n",
    "plt.xticks(A_unique, A_alias)\n",
    "plt.ylabel('probability')\n",
    "plt.xlabel('A')\n",
    "plt.title('P(A | B = on, C = on) - Importance Sampling')"
   ]
  },
  {
   "cell_type": "markdown",
   "metadata": {},
   "source": [
    "### The probability of $P(A = on\\ | \\  B = on, C = on)$ is very close to 0.75 which is the value we got from the empirical calculation"
   ]
  },
  {
   "cell_type": "markdown",
   "metadata": {},
   "source": [
    "### $P(A = on\\ | \\  \\text{do}(B = on), C = on)$"
   ]
  },
  {
   "cell_type": "code",
   "execution_count": 25,
   "metadata": {},
   "outputs": [],
   "source": [
    "intervention_model = pyro.do(model, data={'B': torch.tensor(1)})"
   ]
  },
  {
   "cell_type": "code",
   "execution_count": 26,
   "metadata": {},
   "outputs": [],
   "source": [
    "conditioned_intervention_model = pyro.condition(intervention_model, data={'C':torch.tensor(1)})"
   ]
  },
  {
   "cell_type": "code",
   "execution_count": 27,
   "metadata": {},
   "outputs": [
    {
     "data": {
      "text/plain": [
       "Text(0.5, 1.0, 'P(A | do(B=on), C = on) - Importance Sampling')"
      ]
     },
     "execution_count": 27,
     "metadata": {},
     "output_type": "execute_result"
    },
    {
     "data": {
      "image/png": "[encoded data removed]",
      "text/plain": [
       "<Figure size 432x288 with 1 Axes>"
      ]
     },
     "metadata": {},
     "output_type": "display_data"
    }
   ],
   "source": [
    "A_posterior_intervened = pyro.infer.Importance(conditioned_intervention_model, num_samples=10000).run()\n",
    "A_marginal_intervened = EmpiricalMarginal(A_posterior_intervened,\"A\")\n",
    "A_samples_intervened = [A_marginal_intervened().item() for _ in range(10000)]\n",
    "A_unique_intervened, A_counts_intervened = np.unique(A_samples_intervened, return_counts=True)\n",
    "\n",
    "plt.bar(A_unique_intervened, A_counts_intervened/len(A_samples_intervened), align='center', alpha=0.5)\n",
    "plt.xticks(A_unique_intervened, A_alias)\n",
    "plt.ylabel('probability')\n",
    "plt.xlabel('A')\n",
    "plt.title('P(A | do(B=on), C = on) - Importance Sampling')"
   ]
  },
  {
   "cell_type": "markdown",
   "metadata": {},
   "source": [
    "### The probability of $P(A = on\\ | \\  \\text{do}(B = on), C = on)$ is ~0.4 which is what we got from the empirical calculation."
   ]
  }
 ],
 "metadata": {
  "kernelspec": {
   "display_name": "Python 3",
   "language": "python",
   "name": "python3"
  },
  "language_info": {
   "codemirror_mode": {
    "name": "ipython",
    "version": 3
   },
   "file_extension": ".py",
   "mimetype": "text/x-python",
   "name": "python",
   "nbconvert_exporter": "python",
   "pygments_lexer": "ipython3",
   "version": "3.6.10"
  }
 },
 "nbformat": 4,
 "nbformat_minor": 2
}
